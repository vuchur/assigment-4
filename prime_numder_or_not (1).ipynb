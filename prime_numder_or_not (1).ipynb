{
  "nbformat": 4,
  "nbformat_minor": 0,
  "metadata": {
    "colab": {
      "provenance": []
    },
    "kernelspec": {
      "name": "python3",
      "display_name": "Python 3"
    },
    "language_info": {
      "name": "python"
    }
  },
  "cells": [
    {
      "cell_type": "code",
      "execution_count": 1,
      "metadata": {
        "colab": {
          "base_uri": "https://localhost:8080/"
        },
        "id": "cMbxwNAWYRLU",
        "outputId": "d8822702-67a3-46a6-e199-717a59515aa2"
      },
      "outputs": [
        {
          "output_type": "stream",
          "name": "stdout",
          "text": [
            "Enter a number: 74\n",
            "74 is not a prime number\n"
          ]
        }
      ],
      "source": [
        "\\def is_prime(num):\n",
        "    # If the number is less than or equal to 1, it's not prime\n",
        "    if num <= 1:\n",
        "        return False\n",
        "\n",
        "    # Check for factors from 2 to the square root of the number\n",
        "    for i in range(2, int(num**0.5) + 1):\n",
        "        if num % i == 0:\n",
        "            return False\n",
        "    return True\n",
        "\n",
        "# Taking input from the user\n",
        "num = int(input(\"Enter a number: \"))\n",
        "\n",
        "if is_prime(num):\n",
        "    print(num, \"is a prime number\")\n",
        "else:\n",
        "    print(num, \"is not a prime number\")"
      ]
    },
    {
      "cell_type": "code",
      "source": [],
      "metadata": {
        "id": "fTSXMZQ54Yys"
      },
      "execution_count": 1,
      "outputs": []
    },
    {
      "cell_type": "code",
      "source": [
        "import random\n",
        "\n",
        "def generate_numbers():\n",
        "    # Generate two random numbers between 1 and 10\n",
        "    num1 = random.randint(1, 10)\n",
        "    num2 = random.randint(1, 10)\n",
        "    return num1, num2\n",
        "\n",
        "def main():\n",
        "    # Generate two random numbers\n",
        "    num1, num2 = generate_numbers()\n",
        "\n",
        "    # Calculate the product of the two numbers\n",
        "    product = num1 * num2\n",
        "\n",
        "    # Ask the user to enter the product of the numbers\n",
        "    user_answer = int(input(f\"What is the product of {num1} and {num2}? \"))\n",
        "\n",
        "    # Check if the user's answer is correct\n",
        "    if user_answer == product:\n",
        "        print(\"Correct! Well done.\")\n",
        "    else:\n",
        "        print(\"Incorrect. The correct answer is:\", product)\n",
        "        if _name_ == \"_main_\":\n",
        "           main()"
      ],
      "metadata": {
        "id": "bn1wWUhMdxSI"
      },
      "execution_count": 2,
      "outputs": []
    },
    {
      "cell_type": "code",
      "source": [
        "start = 100\n",
        "end = 200\n",
        "\n",
        "print(\"Squares of Even Numbers in the range\", start, \"to\", end, \":\")\n",
        "\n",
        "for num in range(start, end + 1):\n",
        "    if num % 2 == 0:  # Check if the number is even\n",
        "        print(num, \":\", num ** 2)"
      ],
      "metadata": {
        "colab": {
          "base_uri": "https://localhost:8080/"
        },
        "id": "X4mW3Fr5eVck",
        "outputId": "71d6da9d-688e-4f48-e86f-e75d07377cfa"
      },
      "execution_count": 3,
      "outputs": [
        {
          "output_type": "stream",
          "name": "stdout",
          "text": [
            "Squares of Even Numbers in the range 100 to 200 :\n",
            "100 : 10000\n",
            "102 : 10404\n",
            "104 : 10816\n",
            "106 : 11236\n",
            "108 : 11664\n",
            "110 : 12100\n",
            "112 : 12544\n",
            "114 : 12996\n",
            "116 : 13456\n",
            "118 : 13924\n",
            "120 : 14400\n",
            "122 : 14884\n",
            "124 : 15376\n",
            "126 : 15876\n",
            "128 : 16384\n",
            "130 : 16900\n",
            "132 : 17424\n",
            "134 : 17956\n",
            "136 : 18496\n",
            "138 : 19044\n",
            "140 : 19600\n",
            "142 : 20164\n",
            "144 : 20736\n",
            "146 : 21316\n",
            "148 : 21904\n",
            "150 : 22500\n",
            "152 : 23104\n",
            "154 : 23716\n",
            "156 : 24336\n",
            "158 : 24964\n",
            "160 : 25600\n",
            "162 : 26244\n",
            "164 : 26896\n",
            "166 : 27556\n",
            "168 : 28224\n",
            "170 : 28900\n",
            "172 : 29584\n",
            "174 : 30276\n",
            "176 : 30976\n",
            "178 : 31684\n",
            "180 : 32400\n",
            "182 : 33124\n",
            "184 : 33856\n",
            "186 : 34596\n",
            "188 : 35344\n",
            "190 : 36100\n",
            "192 : 36864\n",
            "194 : 37636\n",
            "196 : 38416\n",
            "198 : 39204\n",
            "200 : 40000\n"
          ]
        }
      ]
    },
    {
      "cell_type": "code",
      "source": [
        "def count_words(text):\n",
        "\n",
        "    words = text.split()\n",
        "\n",
        "    word_count = len(words)\n",
        "    return word_count\n",
        "\n",
        "\n",
        "text = input(\"Enter a text: \")\n",
        "num_words = count_words(text)\n",
        "print(\"Number of words:\", num_words)"
      ],
      "metadata": {
        "colab": {
          "base_uri": "https://localhost:8080/"
        },
        "id": "jM3k5utTqm1H",
        "outputId": "f0a31673-5511-412d-b097-6c0e6405f47e"
      },
      "execution_count": 5,
      "outputs": [
        {
          "output_type": "stream",
          "name": "stdout",
          "text": [
            "Enter a text: 12\n",
            "Number of words: 1\n"
          ]
        }
      ]
    },
    {
      "cell_type": "code",
      "source": [
        "def is_palindrome(s):\n",
        "    \"\"\"\n",
        "    Check if a string is a palindrome.\n",
        "\n",
        "    Args:\n",
        "    s (str): The input string.\n",
        "\n",
        "    Returns:\n",
        "    bool: True if the string is a palindrome, False otherwise.\n",
        "    \"\"\"\n",
        "    # Convert the string to lowercase and remove spaces and punctuation\n",
        "    s = ''.join(char.lower() for char in s if char.isalnum())\n",
        "\n",
        "    # Check if the string is equal to its reverse\n",
        "    return s == s[::-1]\n",
        "\n",
        "# Test the function\n",
        "print(is_palindrome(\"racecar\"))  # True\n",
        "print(is_palindrome(\"A man, a plan, a canal, Panama!\"))  # True\n",
        "print(is_palindrome(\"hello\"))  # False"
      ],
      "metadata": {
        "colab": {
          "base_uri": "https://localhost:8080/"
        },
        "id": "jaSbLO-f6PGu",
        "outputId": "ddc28a92-e5ce-4d46-8d14-24fa28eee6a2"
      },
      "execution_count": 11,
      "outputs": [
        {
          "output_type": "stream",
          "name": "stdout",
          "text": [
            "True\n",
            "True\n",
            "False\n"
          ]
        }
      ]
    }
  ]
}