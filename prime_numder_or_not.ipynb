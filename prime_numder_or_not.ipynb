{
  "nbformat": 4,
  "nbformat_minor": 0,
  "metadata": {
    "colab": {
      "provenance": []
    },
    "kernelspec": {
      "name": "python3",
      "display_name": "Python 3"
    },
    "language_info": {
      "name": "python"
    }
  },
  "cells": [
    {
      "cell_type": "code",
      "execution_count": 4,
      "metadata": {
        "colab": {
          "base_uri": "https://localhost:8080/"
        },
        "id": "cMbxwNAWYRLU",
        "outputId": "d28e148d-8f8f-48fa-a5af-93f82761db00"
      },
      "outputs": [
        {
          "output_type": "stream",
          "name": "stdout",
          "text": [
            "Enter a number: 49\n",
            "49 is not a prime number\n"
          ]
        }
      ],
      "source": [
        "def is_prime(num):\n",
        "    # If the number is less than or equal to 1, it's not prime\n",
        "    if num <= 1:\n",
        "        return False\n",
        "\n",
        "    # Check for factors from 2 to the square root of the number\n",
        "    for i in range(2, int(num**0.5) + 1):\n",
        "        if num % i == 0:\n",
        "            return False\n",
        "    return True\n",
        "\n",
        "# Taking input from the user\n",
        "num = int(input(\"Enter a number: \"))\n",
        "\n",
        "if is_prime(num):\n",
        "    print(num, \"is a prime number\")\n",
        "else:\n",
        "    print(num, \"is not a prime number\")"
      ]
    },
    {
      "cell_type": "code",
      "source": [
        "import random\n",
        "\n",
        "def generate_numbers():\n",
        "    # Generate two random numbers between 1 and 10\n",
        "    num1 = random.randint(1, 10)\n",
        "    num2 = random.randint(1, 10)\n",
        "    return num1, num2\n",
        "\n",
        "def main():\n",
        "    # Generate two random numbers\n",
        "    num1, num2 = generate_numbers()\n",
        "\n",
        "    # Calculate the product of the two numbers\n",
        "    product = num1 * num2\n",
        "\n",
        "    # Ask the user to enter the product of the numbers\n",
        "    user_answer = int(input(f\"What is the product of {num1} and {num2}? \"))\n",
        "\n",
        "    # Check if the user's answer is correct\n",
        "    if user_answer == product:\n",
        "        print(\"Correct! Well done.\")\n",
        "    else:\n",
        "        print(\"Incorrect. The correct answer is:\", product)\n",
        "        if _name_ == \"_main_\":\n",
        "           main()"
      ],
      "metadata": {
        "id": "bn1wWUhMdxSI"
      },
      "execution_count": 11,
      "outputs": []
    },
    {
      "cell_type": "code",
      "source": [
        "start = 100\n",
        "end = 200\n",
        "\n",
        "print(\"Squares of Even Numbers in the range\", start, \"to\", end, \":\")\n",
        "\n",
        "for num in range(start, end + 1):\n",
        "    if num % 2 == 0:  # Check if the number is even\n",
        "        print(num, \":\", num ** 2)"
      ],
      "metadata": {
        "colab": {
          "base_uri": "https://localhost:8080/"
        },
        "id": "X4mW3Fr5eVck",
        "outputId": "d1d990ed-d704-4288-b2c4-107d2a0f4e0f"
      },
      "execution_count": 12,
      "outputs": [
        {
          "output_type": "stream",
          "name": "stdout",
          "text": [
            "Squares of Even Numbers in the range 100 to 200 :\n",
            "100 : 10000\n",
            "102 : 10404\n",
            "104 : 10816\n",
            "106 : 11236\n",
            "108 : 11664\n",
            "110 : 12100\n",
            "112 : 12544\n",
            "114 : 12996\n",
            "116 : 13456\n",
            "118 : 13924\n",
            "120 : 14400\n",
            "122 : 14884\n",
            "124 : 15376\n",
            "126 : 15876\n",
            "128 : 16384\n",
            "130 : 16900\n",
            "132 : 17424\n",
            "134 : 17956\n",
            "136 : 18496\n",
            "138 : 19044\n",
            "140 : 19600\n",
            "142 : 20164\n",
            "144 : 20736\n",
            "146 : 21316\n",
            "148 : 21904\n",
            "150 : 22500\n",
            "152 : 23104\n",
            "154 : 23716\n",
            "156 : 24336\n",
            "158 : 24964\n",
            "160 : 25600\n",
            "162 : 26244\n",
            "164 : 26896\n",
            "166 : 27556\n",
            "168 : 28224\n",
            "170 : 28900\n",
            "172 : 29584\n",
            "174 : 30276\n",
            "176 : 30976\n",
            "178 : 31684\n",
            "180 : 32400\n",
            "182 : 33124\n",
            "184 : 33856\n",
            "186 : 34596\n",
            "188 : 35344\n",
            "190 : 36100\n",
            "192 : 36864\n",
            "194 : 37636\n",
            "196 : 38416\n",
            "198 : 39204\n",
            "200 : 40000\n"
          ]
        }
      ]
    },
    {
      "cell_type": "code",
      "source": [
        "def count_words(text):\n",
        "    # Split the text into words using whitespace as the delimiter\n",
        "    words = text.split()\n",
        "    # Count the number of words\n",
        "    word_count = len(words)\n",
        "    return word_count\n",
        "\n",
        "# Example usage\n",
        "text = input(\"Enter a text: \")\n",
        "num_words = count_words(text)\n",
        "print(\"Number of words:\", num_words)"
      ],
      "metadata": {
        "colab": {
          "base_uri": "https://localhost:8080/"
        },
        "id": "jM3k5utTqm1H",
        "outputId": "94da4f5b-3b53-45e5-b8f5-c90242be87d0"
      },
      "execution_count": 14,
      "outputs": [
        {
          "output_type": "stream",
          "name": "stdout",
          "text": [
            "Enter a text: 3,9,10,25,99,123,44\n",
            "Number of words: 1\n"
          ]
        }
      ]
    },
    {
      "cell_type": "code",
      "source": [],
      "metadata": {
        "id": "2BQHD_99v16w"
      },
      "execution_count": null,
      "outputs": []
    }
  ]
}