{
  "nbformat": 4,
  "nbformat_minor": 0,
  "metadata": {
    "colab": {
      "provenance": []
    },
    "kernelspec": {
      "name": "python3",
      "display_name": "Python 3"
    },
    "language_info": {
      "name": "python"
    }
  },
  "cells": [
    {
      "cell_type": "code",
      "execution_count": 18,
      "metadata": {
        "id": "3pATFTD2VE5I"
      },
      "outputs": [],
      "source": [
        "import numpy as pd\n",
        "from scipy .stats import t"
      ]
    },
    {
      "cell_type": "code",
      "source": [
        "durability = np.array([1.13, 1.55, 1.43, 0.92, 1.25, 1.36, 1.32, 0.85, 1.07, 1.48, 1.20, 1.33, 1.18, 1.22, 1.29])"
      ],
      "metadata": {
        "id": "ibdac1lgWoIF"
      },
      "execution_count": 19,
      "outputs": []
    },
    {
      "cell_type": "code",
      "source": [
        "n = len(durability)"
      ],
      "metadata": {
        "id": "8QSGJk9yXIEY"
      },
      "execution_count": 20,
      "outputs": []
    },
    {
      "cell_type": "code",
      "source": [
        "#mean and std\n",
        "sample_mean = np.mean(durability)\n",
        "sample_std = np.std(durability, ddof=1)"
      ],
      "metadata": {
        "id": "Mw9c9tIEXK8I"
      },
      "execution_count": 21,
      "outputs": []
    },
    {
      "cell_type": "code",
      "source": [
        "#degree of freedom fpt t-distributions\n",
        "\n",
        "df = n - 1"
      ],
      "metadata": {
        "id": "4nCdwfxuXdN4"
      },
      "execution_count": 22,
      "outputs": []
    },
    {
      "cell_type": "code",
      "source": [
        "# t score for 99% confidence level\n",
        "t_score = t.ppf(0.995, df)"
      ],
      "metadata": {
        "id": "evV48AqgXvOZ"
      },
      "execution_count": 23,
      "outputs": []
    },
    {
      "cell_type": "code",
      "source": [
        "# error\n",
        "margin_of_error = t_score * (sample_std / np.sqrt(n))"
      ],
      "metadata": {
        "id": "6vbpWk_sX97G"
      },
      "execution_count": 24,
      "outputs": []
    },
    {
      "cell_type": "code",
      "source": [
        "# confidence lecel\n",
        "confidence_interval_a = (sample_mean - margin_of_error, sample_mean + margin_of_error)\n",
        "print(\"99% Confidence Interval using Sample Standard Deviation:\", confidence_interval_a)\n"
      ],
      "metadata": {
        "colab": {
          "base_uri": "https://localhost:8080/"
        },
        "id": "FM4R8ymrYF9a",
        "outputId": "c2f3413e-8261-40d9-da1d-93ef49e27372"
      },
      "execution_count": 25,
      "outputs": [
        {
          "output_type": "stream",
          "name": "stdout",
          "text": [
            "99% Confidence Interval using Sample Standard Deviation: (1.090197338451367, 1.3871359948819662)\n"
          ]
        }
      ]
    },
    {
      "cell_type": "code",
      "source": [
        "# populaction std\n",
        "population_std = 0.2"
      ],
      "metadata": {
        "id": "GLOVtZntYQpJ"
      },
      "execution_count": 26,
      "outputs": []
    },
    {
      "cell_type": "code",
      "source": [
        "#margin error for populaction\n",
        "margin_of_error_b = t_score * (population_std / np.sqrt(n))"
      ],
      "metadata": {
        "id": "HiP4QzquYZY_"
      },
      "execution_count": 27,
      "outputs": []
    },
    {
      "cell_type": "code",
      "source": [
        "# confidence interval\n",
        "confidence_interval_b = (sample_mean - margin_of_error_b, sample_mean + margin_of_error_b)\n",
        "print(\"99% Confidence Interval using Known Population Standard Deviation:\", confidence_interval_b)"
      ],
      "metadata": {
        "colab": {
          "base_uri": "https://localhost:8080/"
        },
        "id": "PA2qXLRZYoRn",
        "outputId": "b68fa026-609a-46fe-edad-2c1318a25c43"
      },
      "execution_count": 28,
      "outputs": [
        {
          "output_type": "stream",
          "name": "stdout",
          "text": [
            "99% Confidence Interval using Known Population Standard Deviation: (1.0849431688867082, 1.392390164446625)\n"
          ]
        }
      ]
    },
    {
      "cell_type": "code",
      "source": [],
      "metadata": {
        "id": "mz9NGpPsYySS"
      },
      "execution_count": 28,
      "outputs": []
    }
  ]
}